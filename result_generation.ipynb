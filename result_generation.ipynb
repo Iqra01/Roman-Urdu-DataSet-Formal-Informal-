{
 "cells": [
  {
   "cell_type": "code",
   "execution_count": 4,
   "metadata": {},
   "outputs": [
    {
     "name": "stdout",
     "output_type": "stream",
     "text": [
      "TP= 4586\n",
      "FP= 1790\n",
      "TN= 67778\n",
      "FN= 912\n",
      "Accuracy= 0.9640050089254789\n",
      "Precision= 0.7192597239648683\n",
      "Recall= 0.8341214987268097\n",
      "F1 Score= 0.7724439952838134\n"
     ]
    }
   ],
   "source": [
    "TP=0\n",
    "TN=0\n",
    "FP=0\n",
    "FN=0\n",
    "with open(\"originaltag.txt\", \"r\") as original, open(\"machinetag.txt\",\"r\") as machine:\n",
    "    for x, y in zip(original, machine):\n",
    "        xl=x[len(x)-2]\n",
    "        yl=y[len(y)-2]\n",
    "        if(xl=='O' and yl=='O'):\n",
    "            TN= TN+1\n",
    "        elif(xl=='O' and yl!='O'):\n",
    "            FN=FN+1\n",
    "        elif(xl=='R' and yl=='R'):\n",
    "            TP=TP+1\n",
    "        elif(xl=='C' and yl=='C'):\n",
    "            TP=TP+1\n",
    "        elif(xl=='G' and yl=='G'):\n",
    "            TP=TP+1\n",
    "        elif(xl=='R' and yl!='R'):\n",
    "            FP=FP+1\n",
    "        elif(xl=='C' and yl!='C'):\n",
    "            FP=FP+1\n",
    "        elif(xl=='G' and yl!='G'):\n",
    "            FP=FP+1\n",
    "print(\"TP=\", TP)\n",
    "print(\"FP=\", FP)\n",
    "print(\"TN=\", TN)\n",
    "print(\"FN=\", FN)\n",
    "print(\"Accuracy=\", (TP+TN)/(TP+FP+TN+FN))\n",
    "print(\"Precision=\", TP/(TP+FP))\n",
    "print(\"Recall=\", TP/(TP+FN))\n",
    "print(\"F1 Score=\", (2*TP)/(2*TP+FP+FN))\n"
   ]
  },
  {
   "cell_type": "code",
   "execution_count": null,
   "metadata": {},
   "outputs": [],
   "source": []
  }
 ],
 "metadata": {
  "kernelspec": {
   "display_name": "Python 3",
   "language": "python",
   "name": "python3"
  },
  "language_info": {
   "codemirror_mode": {
    "name": "ipython",
    "version": 3
   },
   "file_extension": ".py",
   "mimetype": "text/x-python",
   "name": "python",
   "nbconvert_exporter": "python",
   "pygments_lexer": "ipython3",
   "version": "3.7.3"
  }
 },
 "nbformat": 4,
 "nbformat_minor": 2
}
